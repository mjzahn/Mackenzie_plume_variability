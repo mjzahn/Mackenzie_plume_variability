{
 "cells": [
  {
   "cell_type": "markdown",
   "id": "3e6aa519-f3cd-46db-8847-b0de8810efe2",
   "metadata": {},
   "source": [
    "# Download satellite data - SSS"
   ]
  },
  {
   "cell_type": "markdown",
   "id": "ba7b95dd-1a83-442b-8cea-79d554acb3a0",
   "metadata": {},
   "source": [
    "SUMMARY:\n",
    "- SMAP v6: 2015 - present\n",
    "- CCI SSS: 2010 - 2023\n",
    "- LOCEAN SMOS: June 2010 - August 2023"
   ]
  },
  {
   "cell_type": "markdown",
   "id": "849c9a32-7c6a-45e3-9cbf-27581886bbc1",
   "metadata": {},
   "source": [
    "## SMAP v6 | RSS SMAP Level 3 Sea Surface Salinity Standard Mapped Image 8-Day Running Mean V6.0"
   ]
  },
  {
   "cell_type": "markdown",
   "id": "1c2dd69c-7964-4465-8adc-2bd59afea190",
   "metadata": {},
   "source": [
    "Data can be found here: https://podaac.jpl.nasa.gov/dataset/SMAP_RSS_L3_SSS_SMI_8DAY-RUNNINGMEAN_V6"
   ]
  },
  {
   "cell_type": "markdown",
   "id": "215e9431-80dd-4f15-b426-a004c8b97363",
   "metadata": {},
   "source": [
    "Make sure you have the PODAAC data download package installed:<br>\n",
    "`pip install podaac-data-subscriber`"
   ]
  },
  {
   "cell_type": "markdown",
   "id": "d843aebb-6830-4ff6-947a-6fed3f1e0ad7",
   "metadata": {},
   "source": [
    "Then navigate to the directory you want the data saved and run:<br>\n",
    "`podaac-data-downloader -c SMAP_RSS_L3_SSS_SMI_8DAY-RUNNINGMEAN_V6 -d ./data --start-date 2015-03-27T12:00:00Z --end-date 2024-12-31T12:00:00Z -b=\"-180,60,-100,90\"`"
   ]
  },
  {
   "cell_type": "markdown",
   "id": "fb92c08f-0b5a-402a-a09b-27ea5a9775e6",
   "metadata": {},
   "source": [
    "## CCI SSS | ESA Sea Surface Salinity Climate Change Initiative: Weekly sea surface salinity product for the Northern Hemisphere on a 25km EASE grid, v5.5, for 2010 to 2023"
   ]
  },
  {
   "cell_type": "markdown",
   "id": "ea3a21a9-9cf3-4c28-b057-093d9809f77d",
   "metadata": {},
   "source": [
    "Data can be found here: https://catalogue.ceda.ac.uk/uuid/5b48a34fb4134bbd99acace7767e5b3e/"
   ]
  },
  {
   "cell_type": "markdown",
   "id": "f488e7c4-42fb-4a63-a36b-34fc05437c63",
   "metadata": {},
   "source": [
    "Then navigate to the directory you want the data saved and run:<br>\n",
    "`wget -e robots=off --mirror --no-parent -r https://dap.ceda.ac.uk/neodc/esacci/sea_surface_salinity/data/v05.5/NHv5.5/7days//  `"
   ]
  },
  {
   "cell_type": "markdown",
   "id": "fe68b3d2-66e2-43c5-a0ee-95d03d70b10f",
   "metadata": {},
   "source": [
    "## ARCTIC LOCEAN SMOS | SMOS Arctic SSS L3 V2 maps produced by LOCEAN Expertise Center"
   ]
  },
  {
   "cell_type": "markdown",
   "id": "043ef59d-3fff-4487-96c4-4d6fc2537cfb",
   "metadata": {},
   "source": [
    "Data can be found here: https://www.catds.fr/Products/Products-over-Ocean/CEC-Locean-L3-Arctic-V2"
   ]
  },
  {
   "cell_type": "markdown",
   "id": "a7f1447a-8165-4e75-adfe-1d4c93cf9819",
   "metadata": {},
   "source": [
    "Then navigate to the directory you want the data saved and run:<br>"
   ]
  },
  {
   "cell_type": "code",
   "execution_count": null,
   "id": "77b1078d-7c78-4e18-b1de-62de330f8fa4",
   "metadata": {},
   "outputs": [],
   "source": []
  }
 ],
 "metadata": {
  "kernelspec": {
   "display_name": "Python (sassie)",
   "language": "python",
   "name": "sassie"
  },
  "language_info": {
   "codemirror_mode": {
    "name": "ipython",
    "version": 3
   },
   "file_extension": ".py",
   "mimetype": "text/x-python",
   "name": "python",
   "nbconvert_exporter": "python",
   "pygments_lexer": "ipython3",
   "version": "3.11.7"
  }
 },
 "nbformat": 4,
 "nbformat_minor": 5
}
